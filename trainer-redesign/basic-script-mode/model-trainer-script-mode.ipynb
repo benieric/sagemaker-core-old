{
 "cells": [
  {
   "cell_type": "markdown",
   "metadata": {
    "pycharm": {
     "name": "#%% md\n"
    }
   },
   "source": [
    "# ModelTrainer Demo - Simple Script Mode"
   ]
  },
  {
   "cell_type": "markdown",
   "metadata": {
    "pycharm": {
     "name": "#%% md\n"
    }
   },
   "source": [
    "### Prerequisites"
   ]
  },
  {
   "cell_type": "code",
   "execution_count": null,
   "metadata": {},
   "outputs": [],
   "source": [
    "!pip uninstall sagemaker-core -y"
   ]
  },
  {
   "cell_type": "markdown",
   "metadata": {
    "pycharm": {
     "name": "#%% md\n"
    }
   },
   "source": [
    "Make sure your SageMaker version is updated."
   ]
  },
  {
   "cell_type": "code",
   "execution_count": null,
   "metadata": {
    "pycharm": {
     "name": "#%%\n"
    }
   },
   "outputs": [],
   "source": [
    "!pip install sagemaker ../../dist/sagemaker_core-1.0.1.tar.gz"
   ]
  },
  {
   "cell_type": "markdown",
   "metadata": {
    "pycharm": {
     "name": "#%% md\n"
    }
   },
   "source": [
    "### Imports"
   ]
  },
  {
   "cell_type": "code",
   "execution_count": null,
   "metadata": {
    "pycharm": {
     "name": "#%%\n"
    }
   },
   "outputs": [],
   "source": [
    "import sagemaker\n",
    "import pandas as pd\n",
    "import os\n",
    "import boto3\n",
    "import math\n",
    "import numpy as np\n",
    "from sklearn.preprocessing import StandardScaler\n",
    "from generate_synthetic_housing_data import *"
   ]
  },
  {
   "cell_type": "markdown",
   "metadata": {
    "pycharm": {
     "name": "#%% md\n"
    }
   },
   "source": [
    "### Parameters"
   ]
  },
  {
   "cell_type": "code",
   "execution_count": null,
   "metadata": {
    "pycharm": {
     "name": "#%%\n"
    }
   },
   "outputs": [],
   "source": [
    "sess = sagemaker.Session()\n",
    "bucket = sess.default_bucket()\n",
    "role = sagemaker.get_execution_role()\n",
    "\n",
    "# Local data paths\n",
    "local_train_dir = os.path.join(os.getcwd(), \"data/train\")\n",
    "local_test_dir = os.path.join(os.getcwd(), \"data/test\")\n",
    "os.makedirs(local_train_dir, exist_ok=True)\n",
    "os.makedirs(local_test_dir, exist_ok=True)\n"
   ]
  },
  {
   "cell_type": "markdown",
   "metadata": {
    "pycharm": {
     "name": "#%% md\n"
    }
   },
   "source": [
    "### Prepare Synthetic Housing Data"
   ]
  },
  {
   "cell_type": "markdown",
   "metadata": {
    "pycharm": {
     "name": "#%% md\n"
    }
   },
   "source": [
    "For all the examples below, we'll be generating a synthetic housing dataset."
   ]
  },
  {
   "cell_type": "code",
   "execution_count": null,
   "metadata": {
    "pycharm": {
     "name": "#%%\n"
    }
   },
   "outputs": [],
   "source": [
    "df = generate_houses(1506)\n",
    "\n",
    "# Get training columns\n",
    "train_cols = list(df.columns)\n",
    "del train_cols[-1]\n",
    "train_cols\n",
    "\n",
    "# Split data\n",
    "training_index = math.floor(0.8 * df.shape[0])\n",
    "x_train, y_train = df[train_cols][:training_index], df.PRICE[:training_index]\n",
    "x_test, y_test = df[train_cols][training_index:], df.PRICE[training_index:]\n",
    "\n",
    "# Scale price\n",
    "y_train = y_train / 100000\n",
    "y_test = y_test / 100000\n",
    "\n",
    "# Standardize data\n",
    "x_train_np = StandardScaler().fit_transform(x_train)\n",
    "x_test_np = StandardScaler().fit_transform(x_test)"
   ]
  },
  {
   "cell_type": "code",
   "execution_count": null,
   "metadata": {
    "pycharm": {
     "name": "#%%\n"
    }
   },
   "outputs": [],
   "source": [
    "x_train.head()"
   ]
  },
  {
   "cell_type": "markdown",
   "metadata": {
    "pycharm": {
     "name": "#%% md\n"
    }
   },
   "source": [
    "Rearrange dataframe for SageMaker training and scale price."
   ]
  },
  {
   "cell_type": "code",
   "execution_count": null,
   "metadata": {
    "pycharm": {
     "name": "#%%\n"
    }
   },
   "outputs": [],
   "source": [
    "train_df = pd.DataFrame(data=x_train_np)\n",
    "train_df.columns = x_train.columns\n",
    "train_df[\"PRICE\"] = y_train / 100000\n",
    "first_col = train_df.pop(\"PRICE\")\n",
    "train_df.insert(0, \"PRICE\", first_col)\n",
    "\n",
    "test_df = pd.DataFrame(data=x_test_np)\n",
    "test_df.columns = x_test.columns\n",
    "test_df[\"PRICE\"] = y_test.reset_index(drop=True) / 100000\n",
    "first_col = test_df.pop(\"PRICE\")\n",
    "test_df.insert(0, \"PRICE\", first_col)"
   ]
  },
  {
   "cell_type": "markdown",
   "metadata": {
    "pycharm": {
     "name": "#%% md\n"
    }
   },
   "source": [
    "Save as both CSV and Numpy data types to demonstrate data type flexibility in model training."
   ]
  },
  {
   "cell_type": "code",
   "execution_count": null,
   "metadata": {
    "pycharm": {
     "name": "#%%\n"
    }
   },
   "outputs": [],
   "source": [
    "# Save as Numpy\n",
    "np.save(os.path.join(local_train_dir, \"x_train.npy\"), x_train_np)\n",
    "np.save(os.path.join(local_train_dir, \"y_train.npy\"), y_train)\n",
    "\n",
    "print(f\"Saved training data to local directory: {local_train_dir}\")\n",
    "\n",
    "\n",
    "np.save(os.path.join(local_test_dir, \"x_test.npy\"), x_test_np)\n",
    "np.save(os.path.join(local_test_dir, \"y_test.npy\"), y_test)\n",
    "\n",
    "print(f\"Saved test data to local directory: {local_test_dir}\")"
   ]
  },
  {
   "cell_type": "markdown",
   "metadata": {
    "pycharm": {
     "name": "#%% md\n"
    }
   },
   "source": [
    "# PyTorch - Simple Script Mode Example"
   ]
  },
  {
   "cell_type": "markdown",
   "metadata": {},
   "source": [
    "## Estimator - Cognitive Overload\n",
    "\n",
    "Today, when a new user wants to use the Estimator class, there is a steep learning curve that is needed in order to interact with and create AWS Infrastructure.  The Estimator class __init__() accepts 49 parameters. Data scientist want to be able to run their training jobs in the cloud with minimal effort.\n",
    "\n",
    "https://sagemaker.readthedocs.io/en/stable/api/training/estimators.html\n",
    "\n",
    "* 49 parameters\n",
    "* Can be confusing to know what parameters go together conceptually if user is new to working in cloud/aws\n",
    "* Estimator does not provide much help with providing user with reasonable defaults\n",
    "   * ie, instance_count required, role required, pre step of uploading to S3 is required\n"
   ]
  },
  {
   "cell_type": "code",
   "execution_count": null,
   "metadata": {},
   "outputs": [],
   "source": [
    "## Upload data to S3\n",
    "numpy_train_s3_uri = sess.upload_data(path=local_train_dir, bucket=bucket, key_prefix=\"data/synthetic/housing/train\")\n",
    "numpy_test_s3_uri = sess.upload_data(path=local_test_dir, bucket=bucket, key_prefix=\"data/synthetic/housing/test\")"
   ]
  },
  {
   "cell_type": "code",
   "execution_count": null,
   "metadata": {},
   "outputs": [],
   "source": [
    "from sagemaker.pytorch import PyTorch\n",
    "hyperparameters = {\"epochs\": 25, \"batch_size\": 128, \"learning_rate\": 0.01}\n",
    "\n",
    "train_instance_type = \"ml.c5.xlarge\"\n",
    "\n",
    "estimator = PyTorch( # Training with Pytorch coupled with Pytorch Estimator. (ie, framework to framework estimator mapping)\n",
    "    entry_point=\"train_pytorch.py\",\n",
    "    source_dir=\"pytorch-scripts\", # Local directory where the training script is located\n",
    "    instance_type=train_instance_type,\n",
    "    instance_count=1,\n",
    "    hyperparameters=hyperparameters,\n",
    "    role=role,\n",
    "    base_job_name=\"pytorch-model\",\n",
    "    framework_version=\"1.13.1\",\n",
    "    py_version=\"py39\",\n",
    ") \n"
   ]
  },
  {
   "cell_type": "code",
   "execution_count": null,
   "metadata": {},
   "outputs": [],
   "source": [
    "inputs = {\"train\": numpy_train_s3_uri, \"test\": numpy_test_s3_uri} # Estimator requires inputs to be S3 uri\n",
    "\n",
    "estimator.fit(inputs)"
   ]
  },
  {
   "cell_type": "markdown",
   "metadata": {},
   "source": [
    "## ModelTrainer - Cognitive Overload\n",
    "\n",
    "Our Redesign will tackle this problem essentially with “syntactic sugar” by simplifying parameters, grouping parameters together into constructs that are easy to understand conceptually, and providing reasonable defaults for certain optional parameters.\n",
    "\n",
    "* 13 parameters\n",
    "* Model Trainer is smart enough to set some defaults for user\n",
    "* Conceptual grouping with data class\n",
    "* Decouple image retrieval from Framework Estimators (instead of having N Estimators, 1 ImageSpec class that can be used for all sagemaker images)\n",
    "* Leverage data classes to group parameters that go together (ie, ResourceConfig, StoppingCondition, OutputDataConfig)\n"
   ]
  },
  {
   "cell_type": "markdown",
   "metadata": {},
   "source": [
    "##### Example 1 - Model Trainer Provides resonable defaults\n"
   ]
  },
  {
   "cell_type": "code",
   "execution_count": null,
   "metadata": {},
   "outputs": [],
   "source": [
    "import sys\n",
    "sys.path.append(\"..\") \n",
    "\n",
    "from sagemaker_core.shapes import ResourceConfig\n",
    "from model_trainer.ModelTrainer import ModelTrainer, ImageSpec\n",
    "\n",
    "image = ImageSpec(\n",
    "    framework_name=\"pytorch\",\n",
    "    version=\"1.13.1\",\n",
    "    py_version=\"py39\",\n",
    "    image_scope=\"training\",\n",
    ")\n",
    "\n",
    "# Model Trainer can pick reasonable defaults - Role, StoppingCondition, ResourceConfig, and OutputDataConfig\n",
    "model_trainer = ModelTrainer(\n",
    "    training_image=image\n",
    ")"
   ]
  },
  {
   "cell_type": "code",
   "execution_count": null,
   "metadata": {},
   "outputs": [],
   "source": [
    "from model_trainer.ModelTrainer import SourceCodeConfig\n",
    "\n",
    "hyper_parameters = {\"epochs\": \"25\", \"batch_size\": \"128\", \"learning_rate\": \"0.01\"}\n",
    "data_inputs = {\"train\": local_train_dir, \"test\": local_test_dir}\n",
    "\n",
    "source_code_config = SourceCodeConfig(\n",
    "    training_script=\"train_pytorch.py\",\n",
    "    source_dir=\"pytorch-scripts\",\n",
    ")\n",
    "\n",
    "# Run with code related setup\n",
    "model_training_job = model_trainer.run(\n",
    "    inputs=data_inputs,\n",
    "    hyper_parameters=hyper_parameters,\n",
    "    source_code_config=source_code_config\n",
    ")\n"
   ]
  },
  {
   "cell_type": "markdown",
   "metadata": {},
   "source": [
    "##### Example 2 - user provides all the configurations\n"
   ]
  },
  {
   "cell_type": "code",
   "execution_count": null,
   "metadata": {},
   "outputs": [],
   "source": [
    "from model_trainer.ModelTrainer import ModelTrainer, ImageSpec\n",
    "from sagemaker_core.shapes import ResourceConfig, StoppingCondition, OutputDataConfig\n",
    "from sagemaker.session import Session\n",
    "from sagemaker import get_execution_role\n",
    "\n",
    "session = Session()\n",
    "base_name = \"pytorch-model\"\n",
    "role = get_execution_role()\n",
    "\n",
    "instance_type = \"ml.c5.xlarge\"\n",
    "resource_config = ResourceConfig(\n",
    "    instance_count=1,\n",
    "    instance_type=instance_type,\n",
    "    volume_size_in_gb=30,\n",
    ")\n",
    "\n",
    "stopping_condition = StoppingCondition(max_runtime_in_seconds=86400)\n",
    "\n",
    "output_data_config = OutputDataConfig(\n",
    "    s3_output_path=f\"s3://{session.default_bucket()}/{base_name}/output/\",\n",
    "    compression_type=\"NONE\"\n",
    ")\n",
    "\n",
    "image = ImageSpec(\n",
    "    framework_name=\"pytorch\",\n",
    "    version=\"1.13.1\",\n",
    "    py_version=\"py39\",\n",
    "    image_scope=\"training\",\n",
    "    instance_type=instance_type\n",
    ")\n",
    "\n",
    "model_trainer = ModelTrainer(\n",
    "    training_image=image,\n",
    "    resource_config=resource_config,\n",
    "    output_data_config=output_data_config,\n",
    "    stopping_condition=stopping_condition,\n",
    "    base_name=base_name,\n",
    "    role=role,\n",
    ")"
   ]
  },
  {
   "cell_type": "code",
   "execution_count": null,
   "metadata": {},
   "outputs": [],
   "source": [
    "from model_trainer.ModelTrainer import SourceCodeConfig\n",
    "\n",
    "hyper_parameters = {\"epochs\": \"25\", \"batch_size\": \"128\", \"learning_rate\": \"0.01\"}\n",
    "inputs = {\"train\": local_train_dir, \"test\": local_test_dir}\n",
    "\n",
    "source_code_config = SourceCodeConfig(\n",
    "    command=\"python /opt/ml/input/data/code/train_pytorch.py\",\n",
    "    source_dir=\"pytorch-scripts\",\n",
    ")\n",
    "\n",
    "# Run with code related setup\n",
    "model_training_job = model_trainer.run(\n",
    "    inputs=inputs,\n",
    "    hyper_parameters=hyper_parameters,\n",
    "    source_code_config=source_code_config\n",
    ")"
   ]
  },
  {
   "cell_type": "markdown",
   "metadata": {},
   "source": [
    "## Estimator - Local to Remote Transition\n",
    "\n",
    "Transition from local to remote in current interfaces like Estimator are not easily discoverable and require creating new object instances to enable one or the either (ie, need an `Estimator(...instance_type=\"local\")` vs `Estimator(...instance_type=\"ml.m5.xlarge\")`. Additionally, users can struggle to setup a remote enviornment that mimics their local. This requires user to create a docker image locally with appropriate dependencies, push to remote ecr, and use image uri when create an `Estimator` with remote execution.\n",
    "\n",
    "\n",
    "* Must create new Estimator to transition between local and remote\n",
    "* hidden discoverability\n",
    "* Increase overhead for setting up remote runs with dependencies users have installed locally\n",
    "   * https://github.com/aruncs2005/llama2-fine-tuning-sagemaker/blob/main/2.%20Fine%20tune%20with%20FSDP.ipynb\n"
   ]
  },
  {
   "cell_type": "markdown",
   "metadata": {},
   "source": [
    "##### Estimator Local Run"
   ]
  },
  {
   "cell_type": "code",
   "execution_count": null,
   "metadata": {},
   "outputs": [],
   "source": [
    "numpy_train_path = \"file://\" + local_train_dir\n",
    "numpy_test_path = \"file://\" + local_test_dir"
   ]
  },
  {
   "cell_type": "code",
   "execution_count": null,
   "metadata": {},
   "outputs": [],
   "source": [
    "from sagemaker.pytorch import PyTorch\n",
    "hyperparameters = {\"epochs\": 25, \"batch_size\": 128, \"learning_rate\": 0.01}\n",
    "\n",
    "train_instance_type = \"local\"\n",
    "inputs = {\"train\": numpy_train_path, \"test\": numpy_test_path} # Estimator requires inputs to be S3 uri\n",
    "\n",
    "estimator = PyTorch( # Training with Pytorch coupled with Pytorch Estimator. (ie, framework to framework estimator mapping)\n",
    "    entry_point=\"train_pytorch.py\",\n",
    "    source_dir=\"pytorch-scripts\", # Local directory where the training script is located\n",
    "    instance_type=train_instance_type,\n",
    "    instance_count=1,\n",
    "    hyperparameters=hyperparameters,\n",
    "    role=role,\n",
    "    base_job_name=\"pytorch-model\",\n",
    "    framework_version=\"1.13.1\",\n",
    "    py_version=\"py39\",\n",
    ") \n",
    "\n",
    "estimator.fit(inputs)"
   ]
  },
  {
   "cell_type": "markdown",
   "metadata": {},
   "source": [
    "##### Estimator Remote Run"
   ]
  },
  {
   "cell_type": "code",
   "execution_count": null,
   "metadata": {},
   "outputs": [],
   "source": [
    "## Upload data to S3\n",
    "numpy_train_s3_uri = sess.upload_data(path=local_train_dir, bucket=bucket, key_prefix=\"data/synthetic/housing/train\")\n",
    "numpy_test_s3_uri = sess.upload_data(path=local_test_dir, bucket=bucket, key_prefix=\"data/synthetic/housing/test\")"
   ]
  },
  {
   "cell_type": "code",
   "execution_count": null,
   "metadata": {},
   "outputs": [],
   "source": [
    "from sagemaker.pytorch import PyTorch\n",
    "hyperparameters = {\"epochs\": 25, \"batch_size\": 128, \"learning_rate\": 0.01}\n",
    "\n",
    "train_instance_type = \"ml.c5.xlarge\"\n",
    "inputs = {\"train\": numpy_train_s3_uri, \"test\": numpy_test_s3_uri} # Estimator requires inputs to be S3 uri\n",
    "\n",
    "estimator = PyTorch( # Training with Pytorch coupled with Pytorch Estimator. (ie, framework to framework estimator mapping)\n",
    "    entry_point=\"train_pytorch.py\",\n",
    "    source_dir=\"pytorch-scripts\", # Local directory where the training script is located\n",
    "    instance_type=train_instance_type,\n",
    "    instance_count=1,\n",
    "    hyperparameters=hyperparameters,\n",
    "    role=role,\n",
    "    base_job_name=\"pytorch-model\",\n",
    "    framework_version=\"1.13.1\",\n",
    "    py_version=\"py39\",\n",
    ") \n",
    "estimator.fit(inputs)\n"
   ]
  },
  {
   "cell_type": "markdown",
   "metadata": {},
   "source": [
    "## ModelTrainer - Local to Remote Transition\n",
    "\n",
    "Instead of defining local vs remote in object level, our redesign will do it at the execution method level so a user can easily re-use a trainer object and transition from local to remote with more explicit enum value (ie, `trainer.run(mode=LOCAL)` vs `trainer.run(mode=REMOTE)` . To help, with creating ecr image that matches their local setup, we will also introduce a `local_snapshot()` utility method that will create a docker image based on the current python version and packages installed in the local enviornment and upload to users private ecr.\n",
    "\n",
    "* `TrainingRunMode.Local` & `TrainingRunMode.Remote`\n",
    "* `local_snapshot(ecr_upload=True)`"
   ]
  },
  {
   "cell_type": "code",
   "execution_count": null,
   "metadata": {},
   "outputs": [],
   "source": [
    "import sys\n",
    "sys.path.append(\"..\") \n",
    "\n",
    "from sagemaker_core.shapes import ResourceConfig\n",
    "from model_trainer.ModelTrainer import ModelTrainer, ImageSpec\n",
    "\n",
    "\n",
    "instance_type = \"ml.c5.xlarge\"\n",
    "framework_image = ImageSpec(\n",
    "    framework_name=\"pytorch\",\n",
    "    version=\"1.13.1\",\n",
    "    py_version=\"py39\",\n",
    "    image_scope=\"training\",\n",
    "    instance_type=instance_type\n",
    ")\n",
    "\n",
    "\n",
    "# Model Trainer can pick reasonable - Role, StoppingCondition, and OutputDataConfig\n",
    "model_trainer = ModelTrainer(\n",
    "    training_image=framework_image,\n",
    ")"
   ]
  },
  {
   "cell_type": "code",
   "execution_count": null,
   "metadata": {},
   "outputs": [],
   "source": [
    "from model_trainer.ModelTrainer import SourceCodeConfig\n",
    "\n",
    "hyper_parameters = {\"epochs\": \"25\", \"batch_size\": \"128\", \"learning_rate\": \"0.01\"}\n",
    "inputs = {\"train\": local_train_dir, \"test\": local_test_dir}\n",
    "\n",
    "source_code_config = SourceCodeConfig(\n",
    "    training_srcipt=\"train_pytorch.py\",\n",
    "    source_dir=\"pytorch-scripts\",\n",
    ")"
   ]
  },
  {
   "cell_type": "markdown",
   "metadata": {},
   "source": [
    "##### ModelTrainer Local Run"
   ]
  },
  {
   "cell_type": "code",
   "execution_count": null,
   "metadata": {},
   "outputs": [],
   "source": [
    "from model_trainer.ModelTrainer import TrainingRunMode\n",
    "# Run with code related setup\n",
    "model_training_job = model_trainer.run(\n",
    "    inputs=inputs,\n",
    "    hyper_parameters=hyper_parameters,\n",
    "    source_code_config=source_code_config,\n",
    "    training_run_mode=TrainingRunMode.LOCAL\n",
    ")"
   ]
  },
  {
   "cell_type": "markdown",
   "metadata": {},
   "source": [
    "##### ModelTrainer Remote Run"
   ]
  },
  {
   "cell_type": "code",
   "execution_count": null,
   "metadata": {},
   "outputs": [],
   "source": [
    "from model_trainer.ModelTrainer import TrainingRunMode\n",
    "# Run with code related setup\n",
    "model_training_job = model_trainer.run(\n",
    "    inputs=inputs,\n",
    "    hyper_parameters=hyper_parameters,\n",
    "    source_code_config=source_code_config,\n",
    "    training_run_mode=TrainingRunMode.REMOTE\n",
    ")"
   ]
  },
  {
   "cell_type": "markdown",
   "metadata": {},
   "source": [
    "#### ModelTrainer Local Snapshot\n",
    "\n",
    "Redesign can contain utility methods like local_snapshot that can assist user in transitioning from local to remote jobs more easily"
   ]
  },
  {
   "cell_type": "code",
   "execution_count": null,
   "metadata": {},
   "outputs": [],
   "source": [
    "import sys\n",
    "sys.path.append(\"..\") \n",
    "\n",
    "from sagemaker_core.shapes import ResourceConfig\n",
    "from model_trainer.ModelTrainer import ModelTrainer, ImageSpec, local_snapshot\n",
    "\n",
    "\n",
    "instance_type = \"ml.c5.xlarge\"\n",
    "resource_config = ResourceConfig(\n",
    "    instance_count=1,\n",
    "    instance_type=instance_type,\n",
    "    volume_size_in_gb=30,\n",
    ")\n",
    "\n",
    "image = local_snapshot(ecr_upload=True) # create image, uploads to ecr, returns image uri\n",
    "\n",
    "# Model Trainer can pick reasonable - Role, StoppingCondition, and OutputDataConfig\n",
    "model_trainer = ModelTrainer(\n",
    "    training_image=image,\n",
    "    resource_config=resource_config,\n",
    ")"
   ]
  }
 ],
 "metadata": {
  "availableInstances": [
   {
    "_defaultOrder": 0,
    "_isFastLaunch": true,
    "category": "General purpose",
    "gpuNum": 0,
    "hideHardwareSpecs": false,
    "memoryGiB": 4,
    "name": "ml.t3.medium",
    "vcpuNum": 2
   },
   {
    "_defaultOrder": 1,
    "_isFastLaunch": false,
    "category": "General purpose",
    "gpuNum": 0,
    "hideHardwareSpecs": false,
    "memoryGiB": 8,
    "name": "ml.t3.large",
    "vcpuNum": 2
   },
   {
    "_defaultOrder": 2,
    "_isFastLaunch": false,
    "category": "General purpose",
    "gpuNum": 0,
    "hideHardwareSpecs": false,
    "memoryGiB": 16,
    "name": "ml.t3.xlarge",
    "vcpuNum": 4
   },
   {
    "_defaultOrder": 3,
    "_isFastLaunch": false,
    "category": "General purpose",
    "gpuNum": 0,
    "hideHardwareSpecs": false,
    "memoryGiB": 32,
    "name": "ml.t3.2xlarge",
    "vcpuNum": 8
   },
   {
    "_defaultOrder": 4,
    "_isFastLaunch": true,
    "category": "General purpose",
    "gpuNum": 0,
    "hideHardwareSpecs": false,
    "memoryGiB": 8,
    "name": "ml.m5.large",
    "vcpuNum": 2
   },
   {
    "_defaultOrder": 5,
    "_isFastLaunch": false,
    "category": "General purpose",
    "gpuNum": 0,
    "hideHardwareSpecs": false,
    "memoryGiB": 16,
    "name": "ml.m5.xlarge",
    "vcpuNum": 4
   },
   {
    "_defaultOrder": 6,
    "_isFastLaunch": false,
    "category": "General purpose",
    "gpuNum": 0,
    "hideHardwareSpecs": false,
    "memoryGiB": 32,
    "name": "ml.m5.2xlarge",
    "vcpuNum": 8
   },
   {
    "_defaultOrder": 7,
    "_isFastLaunch": false,
    "category": "General purpose",
    "gpuNum": 0,
    "hideHardwareSpecs": false,
    "memoryGiB": 64,
    "name": "ml.m5.4xlarge",
    "vcpuNum": 16
   },
   {
    "_defaultOrder": 8,
    "_isFastLaunch": false,
    "category": "General purpose",
    "gpuNum": 0,
    "hideHardwareSpecs": false,
    "memoryGiB": 128,
    "name": "ml.m5.8xlarge",
    "vcpuNum": 32
   },
   {
    "_defaultOrder": 9,
    "_isFastLaunch": false,
    "category": "General purpose",
    "gpuNum": 0,
    "hideHardwareSpecs": false,
    "memoryGiB": 192,
    "name": "ml.m5.12xlarge",
    "vcpuNum": 48
   },
   {
    "_defaultOrder": 10,
    "_isFastLaunch": false,
    "category": "General purpose",
    "gpuNum": 0,
    "hideHardwareSpecs": false,
    "memoryGiB": 256,
    "name": "ml.m5.16xlarge",
    "vcpuNum": 64
   },
   {
    "_defaultOrder": 11,
    "_isFastLaunch": false,
    "category": "General purpose",
    "gpuNum": 0,
    "hideHardwareSpecs": false,
    "memoryGiB": 384,
    "name": "ml.m5.24xlarge",
    "vcpuNum": 96
   },
   {
    "_defaultOrder": 12,
    "_isFastLaunch": false,
    "category": "General purpose",
    "gpuNum": 0,
    "hideHardwareSpecs": false,
    "memoryGiB": 8,
    "name": "ml.m5d.large",
    "vcpuNum": 2
   },
   {
    "_defaultOrder": 13,
    "_isFastLaunch": false,
    "category": "General purpose",
    "gpuNum": 0,
    "hideHardwareSpecs": false,
    "memoryGiB": 16,
    "name": "ml.m5d.xlarge",
    "vcpuNum": 4
   },
   {
    "_defaultOrder": 14,
    "_isFastLaunch": false,
    "category": "General purpose",
    "gpuNum": 0,
    "hideHardwareSpecs": false,
    "memoryGiB": 32,
    "name": "ml.m5d.2xlarge",
    "vcpuNum": 8
   },
   {
    "_defaultOrder": 15,
    "_isFastLaunch": false,
    "category": "General purpose",
    "gpuNum": 0,
    "hideHardwareSpecs": false,
    "memoryGiB": 64,
    "name": "ml.m5d.4xlarge",
    "vcpuNum": 16
   },
   {
    "_defaultOrder": 16,
    "_isFastLaunch": false,
    "category": "General purpose",
    "gpuNum": 0,
    "hideHardwareSpecs": false,
    "memoryGiB": 128,
    "name": "ml.m5d.8xlarge",
    "vcpuNum": 32
   },
   {
    "_defaultOrder": 17,
    "_isFastLaunch": false,
    "category": "General purpose",
    "gpuNum": 0,
    "hideHardwareSpecs": false,
    "memoryGiB": 192,
    "name": "ml.m5d.12xlarge",
    "vcpuNum": 48
   },
   {
    "_defaultOrder": 18,
    "_isFastLaunch": false,
    "category": "General purpose",
    "gpuNum": 0,
    "hideHardwareSpecs": false,
    "memoryGiB": 256,
    "name": "ml.m5d.16xlarge",
    "vcpuNum": 64
   },
   {
    "_defaultOrder": 19,
    "_isFastLaunch": false,
    "category": "General purpose",
    "gpuNum": 0,
    "hideHardwareSpecs": false,
    "memoryGiB": 384,
    "name": "ml.m5d.24xlarge",
    "vcpuNum": 96
   },
   {
    "_defaultOrder": 20,
    "_isFastLaunch": false,
    "category": "General purpose",
    "gpuNum": 0,
    "hideHardwareSpecs": true,
    "memoryGiB": 0,
    "name": "ml.geospatial.interactive",
    "supportedImageNames": [
     "sagemaker-geospatial-v1-0"
    ],
    "vcpuNum": 0
   },
   {
    "_defaultOrder": 21,
    "_isFastLaunch": true,
    "category": "Compute optimized",
    "gpuNum": 0,
    "hideHardwareSpecs": false,
    "memoryGiB": 4,
    "name": "ml.c5.large",
    "vcpuNum": 2
   },
   {
    "_defaultOrder": 22,
    "_isFastLaunch": false,
    "category": "Compute optimized",
    "gpuNum": 0,
    "hideHardwareSpecs": false,
    "memoryGiB": 8,
    "name": "ml.c5.xlarge",
    "vcpuNum": 4
   },
   {
    "_defaultOrder": 23,
    "_isFastLaunch": false,
    "category": "Compute optimized",
    "gpuNum": 0,
    "hideHardwareSpecs": false,
    "memoryGiB": 16,
    "name": "ml.c5.2xlarge",
    "vcpuNum": 8
   },
   {
    "_defaultOrder": 24,
    "_isFastLaunch": false,
    "category": "Compute optimized",
    "gpuNum": 0,
    "hideHardwareSpecs": false,
    "memoryGiB": 32,
    "name": "ml.c5.4xlarge",
    "vcpuNum": 16
   },
   {
    "_defaultOrder": 25,
    "_isFastLaunch": false,
    "category": "Compute optimized",
    "gpuNum": 0,
    "hideHardwareSpecs": false,
    "memoryGiB": 72,
    "name": "ml.c5.9xlarge",
    "vcpuNum": 36
   },
   {
    "_defaultOrder": 26,
    "_isFastLaunch": false,
    "category": "Compute optimized",
    "gpuNum": 0,
    "hideHardwareSpecs": false,
    "memoryGiB": 96,
    "name": "ml.c5.12xlarge",
    "vcpuNum": 48
   },
   {
    "_defaultOrder": 27,
    "_isFastLaunch": false,
    "category": "Compute optimized",
    "gpuNum": 0,
    "hideHardwareSpecs": false,
    "memoryGiB": 144,
    "name": "ml.c5.18xlarge",
    "vcpuNum": 72
   },
   {
    "_defaultOrder": 28,
    "_isFastLaunch": false,
    "category": "Compute optimized",
    "gpuNum": 0,
    "hideHardwareSpecs": false,
    "memoryGiB": 192,
    "name": "ml.c5.24xlarge",
    "vcpuNum": 96
   },
   {
    "_defaultOrder": 29,
    "_isFastLaunch": true,
    "category": "Accelerated computing",
    "gpuNum": 1,
    "hideHardwareSpecs": false,
    "memoryGiB": 16,
    "name": "ml.g4dn.xlarge",
    "vcpuNum": 4
   },
   {
    "_defaultOrder": 30,
    "_isFastLaunch": false,
    "category": "Accelerated computing",
    "gpuNum": 1,
    "hideHardwareSpecs": false,
    "memoryGiB": 32,
    "name": "ml.g4dn.2xlarge",
    "vcpuNum": 8
   },
   {
    "_defaultOrder": 31,
    "_isFastLaunch": false,
    "category": "Accelerated computing",
    "gpuNum": 1,
    "hideHardwareSpecs": false,
    "memoryGiB": 64,
    "name": "ml.g4dn.4xlarge",
    "vcpuNum": 16
   },
   {
    "_defaultOrder": 32,
    "_isFastLaunch": false,
    "category": "Accelerated computing",
    "gpuNum": 1,
    "hideHardwareSpecs": false,
    "memoryGiB": 128,
    "name": "ml.g4dn.8xlarge",
    "vcpuNum": 32
   },
   {
    "_defaultOrder": 33,
    "_isFastLaunch": false,
    "category": "Accelerated computing",
    "gpuNum": 4,
    "hideHardwareSpecs": false,
    "memoryGiB": 192,
    "name": "ml.g4dn.12xlarge",
    "vcpuNum": 48
   },
   {
    "_defaultOrder": 34,
    "_isFastLaunch": false,
    "category": "Accelerated computing",
    "gpuNum": 1,
    "hideHardwareSpecs": false,
    "memoryGiB": 256,
    "name": "ml.g4dn.16xlarge",
    "vcpuNum": 64
   },
   {
    "_defaultOrder": 35,
    "_isFastLaunch": false,
    "category": "Accelerated computing",
    "gpuNum": 1,
    "hideHardwareSpecs": false,
    "memoryGiB": 61,
    "name": "ml.p3.2xlarge",
    "vcpuNum": 8
   },
   {
    "_defaultOrder": 36,
    "_isFastLaunch": false,
    "category": "Accelerated computing",
    "gpuNum": 4,
    "hideHardwareSpecs": false,
    "memoryGiB": 244,
    "name": "ml.p3.8xlarge",
    "vcpuNum": 32
   },
   {
    "_defaultOrder": 37,
    "_isFastLaunch": false,
    "category": "Accelerated computing",
    "gpuNum": 8,
    "hideHardwareSpecs": false,
    "memoryGiB": 488,
    "name": "ml.p3.16xlarge",
    "vcpuNum": 64
   },
   {
    "_defaultOrder": 38,
    "_isFastLaunch": false,
    "category": "Accelerated computing",
    "gpuNum": 8,
    "hideHardwareSpecs": false,
    "memoryGiB": 768,
    "name": "ml.p3dn.24xlarge",
    "vcpuNum": 96
   },
   {
    "_defaultOrder": 39,
    "_isFastLaunch": false,
    "category": "Memory Optimized",
    "gpuNum": 0,
    "hideHardwareSpecs": false,
    "memoryGiB": 16,
    "name": "ml.r5.large",
    "vcpuNum": 2
   },
   {
    "_defaultOrder": 40,
    "_isFastLaunch": false,
    "category": "Memory Optimized",
    "gpuNum": 0,
    "hideHardwareSpecs": false,
    "memoryGiB": 32,
    "name": "ml.r5.xlarge",
    "vcpuNum": 4
   },
   {
    "_defaultOrder": 41,
    "_isFastLaunch": false,
    "category": "Memory Optimized",
    "gpuNum": 0,
    "hideHardwareSpecs": false,
    "memoryGiB": 64,
    "name": "ml.r5.2xlarge",
    "vcpuNum": 8
   },
   {
    "_defaultOrder": 42,
    "_isFastLaunch": false,
    "category": "Memory Optimized",
    "gpuNum": 0,
    "hideHardwareSpecs": false,
    "memoryGiB": 128,
    "name": "ml.r5.4xlarge",
    "vcpuNum": 16
   },
   {
    "_defaultOrder": 43,
    "_isFastLaunch": false,
    "category": "Memory Optimized",
    "gpuNum": 0,
    "hideHardwareSpecs": false,
    "memoryGiB": 256,
    "name": "ml.r5.8xlarge",
    "vcpuNum": 32
   },
   {
    "_defaultOrder": 44,
    "_isFastLaunch": false,
    "category": "Memory Optimized",
    "gpuNum": 0,
    "hideHardwareSpecs": false,
    "memoryGiB": 384,
    "name": "ml.r5.12xlarge",
    "vcpuNum": 48
   },
   {
    "_defaultOrder": 45,
    "_isFastLaunch": false,
    "category": "Memory Optimized",
    "gpuNum": 0,
    "hideHardwareSpecs": false,
    "memoryGiB": 512,
    "name": "ml.r5.16xlarge",
    "vcpuNum": 64
   },
   {
    "_defaultOrder": 46,
    "_isFastLaunch": false,
    "category": "Memory Optimized",
    "gpuNum": 0,
    "hideHardwareSpecs": false,
    "memoryGiB": 768,
    "name": "ml.r5.24xlarge",
    "vcpuNum": 96
   },
   {
    "_defaultOrder": 47,
    "_isFastLaunch": false,
    "category": "Accelerated computing",
    "gpuNum": 1,
    "hideHardwareSpecs": false,
    "memoryGiB": 16,
    "name": "ml.g5.xlarge",
    "vcpuNum": 4
   },
   {
    "_defaultOrder": 48,
    "_isFastLaunch": false,
    "category": "Accelerated computing",
    "gpuNum": 1,
    "hideHardwareSpecs": false,
    "memoryGiB": 32,
    "name": "ml.g5.2xlarge",
    "vcpuNum": 8
   },
   {
    "_defaultOrder": 49,
    "_isFastLaunch": false,
    "category": "Accelerated computing",
    "gpuNum": 1,
    "hideHardwareSpecs": false,
    "memoryGiB": 64,
    "name": "ml.g5.4xlarge",
    "vcpuNum": 16
   },
   {
    "_defaultOrder": 50,
    "_isFastLaunch": false,
    "category": "Accelerated computing",
    "gpuNum": 1,
    "hideHardwareSpecs": false,
    "memoryGiB": 128,
    "name": "ml.g5.8xlarge",
    "vcpuNum": 32
   },
   {
    "_defaultOrder": 51,
    "_isFastLaunch": false,
    "category": "Accelerated computing",
    "gpuNum": 1,
    "hideHardwareSpecs": false,
    "memoryGiB": 256,
    "name": "ml.g5.16xlarge",
    "vcpuNum": 64
   },
   {
    "_defaultOrder": 52,
    "_isFastLaunch": false,
    "category": "Accelerated computing",
    "gpuNum": 4,
    "hideHardwareSpecs": false,
    "memoryGiB": 192,
    "name": "ml.g5.12xlarge",
    "vcpuNum": 48
   },
   {
    "_defaultOrder": 53,
    "_isFastLaunch": false,
    "category": "Accelerated computing",
    "gpuNum": 4,
    "hideHardwareSpecs": false,
    "memoryGiB": 384,
    "name": "ml.g5.24xlarge",
    "vcpuNum": 96
   },
   {
    "_defaultOrder": 54,
    "_isFastLaunch": false,
    "category": "Accelerated computing",
    "gpuNum": 8,
    "hideHardwareSpecs": false,
    "memoryGiB": 768,
    "name": "ml.g5.48xlarge",
    "vcpuNum": 192
   },
   {
    "_defaultOrder": 55,
    "_isFastLaunch": false,
    "category": "Accelerated computing",
    "gpuNum": 8,
    "hideHardwareSpecs": false,
    "memoryGiB": 1152,
    "name": "ml.p4d.24xlarge",
    "vcpuNum": 96
   },
   {
    "_defaultOrder": 56,
    "_isFastLaunch": false,
    "category": "Accelerated computing",
    "gpuNum": 8,
    "hideHardwareSpecs": false,
    "memoryGiB": 1152,
    "name": "ml.p4de.24xlarge",
    "vcpuNum": 96
   }
  ],
  "kernelspec": {
   "display_name": "py3.10.14",
   "language": "python",
   "name": "python3"
  },
  "language_info": {
   "codemirror_mode": {
    "name": "ipython",
    "version": 3
   },
   "file_extension": ".py",
   "mimetype": "text/x-python",
   "name": "python",
   "nbconvert_exporter": "python",
   "pygments_lexer": "ipython3",
   "version": "3.10.14"
  }
 },
 "nbformat": 4,
 "nbformat_minor": 4
}
